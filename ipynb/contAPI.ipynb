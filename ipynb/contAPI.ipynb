{
  "cells": [
    {
      "cell_type": "code",
      "execution_count": 1,
      "metadata": {
        "id": "CmdpglRTu-Qg"
      },
      "outputs": [],
      "source": [
        "# Import libraries\n",
        "\n",
        "from time import time\n",
        "from time import sleep\n",
        "from threading import Timer\n",
        "import requests\n",
        "import json\n",
        "import numpy as np\n",
        "import csv\n",
        "import pandas as pd"
      ]
    },
    {
      "cell_type": "code",
      "execution_count": null,
      "metadata": {
        "colab": {
          "base_uri": "https://localhost:8080/"
        },
        "id": "MOvyRrWN7PyJ",
        "outputId": "8453c531-2f62-4558-f5c3-122acc4e40cb"
      },
      "outputs": [],
      "source": [
        "# Mount Google Drive\n",
        "\n",
        "from google.colab import drive\n",
        "drive.mount('/content/drive')"
      ]
    },
    {
      "cell_type": "code",
      "execution_count": null,
      "metadata": {
        "colab": {
          "base_uri": "https://localhost:8080/"
        },
        "id": "6LFYXojX0o4m",
        "outputId": "057d28fb-dc5b-4872-b346-104070bf0365"
      },
      "outputs": [],
      "source": [
        "# cd into MyDrive\n",
        "\n",
        "%cd /content/drive/My\\ Drive/"
      ]
    },
    {
      "cell_type": "code",
      "execution_count": 4,
      "metadata": {
        "id": "b65FgB9Fv0EG"
      },
      "outputs": [],
      "source": [
        "# Define functions and classes\n",
        "\n",
        "def jprint(obj):\n",
        "    # create a formatted string of the Python JSON object\n",
        "    text = json.dumps(obj, sort_keys=True, indent=4)\n",
        "    print(text)\n",
        "\n",
        "class RepeatedTimer(object):\n",
        "    def __init__(self, interval, function, *args, **kwargs):\n",
        "        self._timer     = None\n",
        "        self.interval   = interval\n",
        "        self.function   = function\n",
        "        self.args       = args\n",
        "        self.kwargs     = kwargs\n",
        "        self.is_running = False\n",
        "        self.start()\n",
        "\n",
        "    def _run(self):\n",
        "        self.is_running = False\n",
        "        self.start()\n",
        "        self.function(*self.args, **self.kwargs)\n",
        "\n",
        "    def start(self):\n",
        "        if not self.is_running:\n",
        "            self._timer = Timer(self.interval, self._run)\n",
        "            self._timer.start()\n",
        "            self.is_running = True\n",
        "\n",
        "    def stop(self):\n",
        "        self._timer.cancel()\n",
        "        self.is_running = False\n",
        "\n",
        "def contAPI(link):\n",
        "      response = requests.get(link)\n",
        "      data = json.loads(response.text)\n",
        "      final.append(data)"
      ]
    },
    {
      "cell_type": "code",
      "execution_count": null,
      "metadata": {
        "colab": {
          "base_uri": "https://localhost:8080/"
        },
        "id": "JcXSXj-HkMs-",
        "outputId": "f4f9dec1-7f77-4d66-d883-e5905d2b8eb8"
      },
      "outputs": [],
      "source": [
        "# Execute contAPI \n",
        "\n",
        "final = []\n",
        "\n",
        "print(\"starting...\")\n",
        "rt = RepeatedTimer(5, contAPI,\"ENTER API HERE\") # enter (interval in seconds, contAPI, \"API URL PATH\")\n",
        "try:\n",
        "    sleep(600) # enter n seconds of runtime\n",
        "finally:\n",
        "    rt.stop() # ensure program ends\n",
        "\n",
        "df_nested_list = pd.json_normalize(final)\n",
        "print(df_nested_list)"
      ]
    },
    {
      "cell_type": "code",
      "execution_count": null,
      "metadata": {
        "id": "dk5yj-sp138C"
      },
      "outputs": [],
      "source": [
        "# Save to csv in MyDrive\n",
        "\n",
        "df_nested_list.to_csv('final.xlsx', index=False)"
      ]
    }
  ],
  "metadata": {
    "colab": {
      "collapsed_sections": [],
      "name": "contAPI.ipynb",
      "provenance": []
    },
    "kernelspec": {
      "display_name": "Python 3",
      "name": "python3"
    },
    "language_info": {
      "name": "python"
    }
  },
  "nbformat": 4,
  "nbformat_minor": 0
}
